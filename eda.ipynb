{
 "cells": [
  {
   "cell_type": "code",
   "execution_count": 1,
   "metadata": {},
   "outputs": [],
   "source": [
    "import pandas as pd\n",
    "import numpy as np"
   ]
  },
  {
   "cell_type": "code",
   "execution_count": 2,
   "metadata": {},
   "outputs": [],
   "source": [
    "train = pd.read_csv(\"dataset/train.csv\")\n",
    "test = pd.read_csv(\"dataset/test.csv\")"
   ]
  },
  {
   "cell_type": "code",
   "execution_count": 4,
   "metadata": {},
   "outputs": [
    {
     "name": "stdout",
     "output_type": "stream",
     "text": [
      "<class 'pandas.core.frame.DataFrame'>\n",
      "RangeIndex: 28200 entries, 0 to 28199\n",
      "Data columns (total 22 columns):\n",
      " #   Column                          Non-Null Count  Dtype  \n",
      "---  ------                          --------------  -----  \n",
      " 0   tracking_id                     28200 non-null  object \n",
      " 1   datetime                        28200 non-null  object \n",
      " 2   wind_speed(m/s)                 27927 non-null  float64\n",
      " 3   atmospheric_temperature(°C)     24750 non-null  float64\n",
      " 4   shaft_temperature(°C)           28198 non-null  float64\n",
      " 5   blades_angle(°)                 27984 non-null  float64\n",
      " 6   gearbox_temperature(°C)         28199 non-null  float64\n",
      " 7   engine_temperature(°C)          28188 non-null  float64\n",
      " 8   motor_torque(N-m)               28176 non-null  float64\n",
      " 9   generator_temperature(°C)       28188 non-null  float64\n",
      " 10  atmospheric_pressure(Pascal)    25493 non-null  float64\n",
      " 11  area_temperature(°C)            28200 non-null  float64\n",
      " 12  windmill_body_temperature(°C)   25837 non-null  float64\n",
      " 13  wind_direction(°)               23097 non-null  float64\n",
      " 14  resistance(ohm)                 28199 non-null  float64\n",
      " 15  rotor_torque(N-m)               27628 non-null  float64\n",
      " 16  turbine_status                  26441 non-null  object \n",
      " 17  cloud_level                     27924 non-null  object \n",
      " 18  blade_length(m)                 23107 non-null  float64\n",
      " 19  blade_breadth(m)                28200 non-null  float64\n",
      " 20  windmill_height(m)              27657 non-null  float64\n",
      " 21  windmill_generated_power(kW/h)  27993 non-null  float64\n",
      "dtypes: float64(18), object(4)\n",
      "memory usage: 4.7+ MB\n"
     ]
    }
   ],
   "source": [
    "train.info()"
   ]
  },
  {
   "cell_type": "code",
   "execution_count": 5,
   "metadata": {},
   "outputs": [],
   "source": [
    "y = train['windmill_generated_power(kW/h)']"
   ]
  },
  {
   "cell_type": "code",
   "execution_count": 6,
   "metadata": {},
   "outputs": [
    {
     "data": {
      "text/html": [
       "<div>\n",
       "<style scoped>\n",
       "    .dataframe tbody tr th:only-of-type {\n",
       "        vertical-align: middle;\n",
       "    }\n",
       "\n",
       "    .dataframe tbody tr th {\n",
       "        vertical-align: top;\n",
       "    }\n",
       "\n",
       "    .dataframe thead th {\n",
       "        text-align: right;\n",
       "    }\n",
       "</style>\n",
       "<table border=\"1\" class=\"dataframe\">\n",
       "  <thead>\n",
       "    <tr style=\"text-align: right;\">\n",
       "      <th></th>\n",
       "      <th>tracking_id</th>\n",
       "      <th>datetime</th>\n",
       "      <th>wind_speed(m/s)</th>\n",
       "      <th>atmospheric_temperature(°C)</th>\n",
       "      <th>shaft_temperature(°C)</th>\n",
       "      <th>blades_angle(°)</th>\n",
       "      <th>gearbox_temperature(°C)</th>\n",
       "      <th>engine_temperature(°C)</th>\n",
       "      <th>motor_torque(N-m)</th>\n",
       "      <th>generator_temperature(°C)</th>\n",
       "      <th>...</th>\n",
       "      <th>windmill_body_temperature(°C)</th>\n",
       "      <th>wind_direction(°)</th>\n",
       "      <th>resistance(ohm)</th>\n",
       "      <th>rotor_torque(N-m)</th>\n",
       "      <th>turbine_status</th>\n",
       "      <th>cloud_level</th>\n",
       "      <th>blade_length(m)</th>\n",
       "      <th>blade_breadth(m)</th>\n",
       "      <th>windmill_height(m)</th>\n",
       "      <th>windmill_generated_power(kW/h)</th>\n",
       "    </tr>\n",
       "  </thead>\n",
       "  <tbody>\n",
       "    <tr>\n",
       "      <th>0</th>\n",
       "      <td>WM_33725</td>\n",
       "      <td>2019-08-04 14:33:20</td>\n",
       "      <td>94.820023</td>\n",
       "      <td>-99.000000</td>\n",
       "      <td>41.723019</td>\n",
       "      <td>-0.903423</td>\n",
       "      <td>82.410573</td>\n",
       "      <td>42.523015</td>\n",
       "      <td>2563.124522</td>\n",
       "      <td>76.665560</td>\n",
       "      <td>...</td>\n",
       "      <td>NaN</td>\n",
       "      <td>239.836388</td>\n",
       "      <td>2730.310605</td>\n",
       "      <td>42.084666</td>\n",
       "      <td>BA</td>\n",
       "      <td>Medium</td>\n",
       "      <td>2.217542</td>\n",
       "      <td>0.314065</td>\n",
       "      <td>24.281689</td>\n",
       "      <td>6.766521</td>\n",
       "    </tr>\n",
       "    <tr>\n",
       "      <th>1</th>\n",
       "      <td>WM_698</td>\n",
       "      <td>2018-11-05 10:13:20</td>\n",
       "      <td>241.832734</td>\n",
       "      <td>27.764785</td>\n",
       "      <td>-99.000000</td>\n",
       "      <td>-99.000000</td>\n",
       "      <td>44.104919</td>\n",
       "      <td>46.258870</td>\n",
       "      <td>2372.384119</td>\n",
       "      <td>78.129803</td>\n",
       "      <td>...</td>\n",
       "      <td>NaN</td>\n",
       "      <td>337.944723</td>\n",
       "      <td>1780.207200</td>\n",
       "      <td>107.888643</td>\n",
       "      <td>A2</td>\n",
       "      <td>Medium</td>\n",
       "      <td>4.210346</td>\n",
       "      <td>0.448494</td>\n",
       "      <td>27.262139</td>\n",
       "      <td>5.966275</td>\n",
       "    </tr>\n",
       "    <tr>\n",
       "      <th>2</th>\n",
       "      <td>WM_39146</td>\n",
       "      <td>2019-09-14 14:03:20</td>\n",
       "      <td>95.484724</td>\n",
       "      <td>NaN</td>\n",
       "      <td>41.855473</td>\n",
       "      <td>12.652763</td>\n",
       "      <td>42.322098</td>\n",
       "      <td>42.878552</td>\n",
       "      <td>1657.169646</td>\n",
       "      <td>67.654469</td>\n",
       "      <td>...</td>\n",
       "      <td>45.033197</td>\n",
       "      <td>227.850294</td>\n",
       "      <td>1666.049900</td>\n",
       "      <td>-42.931459</td>\n",
       "      <td>ABC</td>\n",
       "      <td>Medium</td>\n",
       "      <td>2.719475</td>\n",
       "      <td>0.302321</td>\n",
       "      <td>27.366127</td>\n",
       "      <td>2.874342</td>\n",
       "    </tr>\n",
       "    <tr>\n",
       "      <th>3</th>\n",
       "      <td>WM_6757</td>\n",
       "      <td>2018-12-25 15:33:20</td>\n",
       "      <td>238.819424</td>\n",
       "      <td>-99.000000</td>\n",
       "      <td>45.443914</td>\n",
       "      <td>15.115323</td>\n",
       "      <td>44.759643</td>\n",
       "      <td>47.282101</td>\n",
       "      <td>2888.134079</td>\n",
       "      <td>95.389974</td>\n",
       "      <td>...</td>\n",
       "      <td>44.827154</td>\n",
       "      <td>492.081520</td>\n",
       "      <td>1964.502895</td>\n",
       "      <td>42.744596</td>\n",
       "      <td>ABC</td>\n",
       "      <td>NaN</td>\n",
       "      <td>4.857385</td>\n",
       "      <td>0.367140</td>\n",
       "      <td>24.287767</td>\n",
       "      <td>14.851089</td>\n",
       "    </tr>\n",
       "    <tr>\n",
       "      <th>4</th>\n",
       "      <td>WM_21521</td>\n",
       "      <td>2019-05-04 03:13:20</td>\n",
       "      <td>10.722890</td>\n",
       "      <td>NaN</td>\n",
       "      <td>41.981183</td>\n",
       "      <td>1.715696</td>\n",
       "      <td>-17.616459</td>\n",
       "      <td>43.469852</td>\n",
       "      <td>781.695419</td>\n",
       "      <td>37.423065</td>\n",
       "      <td>...</td>\n",
       "      <td>-99.000000</td>\n",
       "      <td>259.274601</td>\n",
       "      <td>1177.516152</td>\n",
       "      <td>13.387289</td>\n",
       "      <td>AAA</td>\n",
       "      <td>Medium</td>\n",
       "      <td>NaN</td>\n",
       "      <td>0.453374</td>\n",
       "      <td>27.971650</td>\n",
       "      <td>3.519074</td>\n",
       "    </tr>\n",
       "  </tbody>\n",
       "</table>\n",
       "<p>5 rows × 22 columns</p>\n",
       "</div>"
      ],
      "text/plain": [
       "  tracking_id             datetime  wind_speed(m/s)  \\\n",
       "0    WM_33725  2019-08-04 14:33:20        94.820023   \n",
       "1      WM_698  2018-11-05 10:13:20       241.832734   \n",
       "2    WM_39146  2019-09-14 14:03:20        95.484724   \n",
       "3     WM_6757  2018-12-25 15:33:20       238.819424   \n",
       "4    WM_21521  2019-05-04 03:13:20        10.722890   \n",
       "\n",
       "   atmospheric_temperature(°C)  shaft_temperature(°C)  blades_angle(°)  \\\n",
       "0                   -99.000000              41.723019        -0.903423   \n",
       "1                    27.764785             -99.000000       -99.000000   \n",
       "2                          NaN              41.855473        12.652763   \n",
       "3                   -99.000000              45.443914        15.115323   \n",
       "4                          NaN              41.981183         1.715696   \n",
       "\n",
       "   gearbox_temperature(°C)  engine_temperature(°C)  motor_torque(N-m)  \\\n",
       "0                82.410573               42.523015        2563.124522   \n",
       "1                44.104919               46.258870        2372.384119   \n",
       "2                42.322098               42.878552        1657.169646   \n",
       "3                44.759643               47.282101        2888.134079   \n",
       "4               -17.616459               43.469852         781.695419   \n",
       "\n",
       "   generator_temperature(°C)  ...  windmill_body_temperature(°C)  \\\n",
       "0                  76.665560  ...                            NaN   \n",
       "1                  78.129803  ...                            NaN   \n",
       "2                  67.654469  ...                      45.033197   \n",
       "3                  95.389974  ...                      44.827154   \n",
       "4                  37.423065  ...                     -99.000000   \n",
       "\n",
       "   wind_direction(°)  resistance(ohm)  rotor_torque(N-m)  turbine_status  \\\n",
       "0         239.836388      2730.310605          42.084666              BA   \n",
       "1         337.944723      1780.207200         107.888643              A2   \n",
       "2         227.850294      1666.049900         -42.931459             ABC   \n",
       "3         492.081520      1964.502895          42.744596             ABC   \n",
       "4         259.274601      1177.516152          13.387289             AAA   \n",
       "\n",
       "   cloud_level blade_length(m) blade_breadth(m)  windmill_height(m)  \\\n",
       "0       Medium        2.217542         0.314065           24.281689   \n",
       "1       Medium        4.210346         0.448494           27.262139   \n",
       "2       Medium        2.719475         0.302321           27.366127   \n",
       "3          NaN        4.857385         0.367140           24.287767   \n",
       "4       Medium             NaN         0.453374           27.971650   \n",
       "\n",
       "   windmill_generated_power(kW/h)  \n",
       "0                        6.766521  \n",
       "1                        5.966275  \n",
       "2                        2.874342  \n",
       "3                       14.851089  \n",
       "4                        3.519074  \n",
       "\n",
       "[5 rows x 22 columns]"
      ]
     },
     "execution_count": 6,
     "metadata": {},
     "output_type": "execute_result"
    }
   ],
   "source": [
    "train.head()"
   ]
  },
  {
   "cell_type": "markdown",
   "metadata": {},
   "source": [
    "# Removing unwanted features"
   ]
  },
  {
   "cell_type": "code",
   "execution_count": 7,
   "metadata": {},
   "outputs": [],
   "source": [
    "train.drop(\"datetime\", axis=1, inplace=True)"
   ]
  },
  {
   "cell_type": "code",
   "execution_count": 8,
   "metadata": {},
   "outputs": [],
   "source": [
    "test_id = test['tracking_id']"
   ]
  },
  {
   "cell_type": "code",
   "execution_count": 9,
   "metadata": {},
   "outputs": [],
   "source": [
    "test.drop('tracking_id', axis=1, inplace=True)\n",
    "test.drop('datetime', axis=1, inplace=True)"
   ]
  },
  {
   "cell_type": "markdown",
   "metadata": {},
   "source": [
    "# Seperating categorical and numerical data"
   ]
  },
  {
   "cell_type": "code",
   "execution_count": 10,
   "metadata": {},
   "outputs": [],
   "source": [
    "train_cat = train.select_dtypes(object)\n",
    "train_num = train.select_dtypes(\"float64\")"
   ]
  },
  {
   "cell_type": "code",
   "execution_count": 11,
   "metadata": {},
   "outputs": [],
   "source": [
    "test_cat = test.select_dtypes(object)\n",
    "test_num = test.select_dtypes(\"float64\")"
   ]
  },
  {
   "cell_type": "markdown",
   "metadata": {},
   "source": [
    "# Filling null values"
   ]
  },
  {
   "cell_type": "code",
   "execution_count": 12,
   "metadata": {},
   "outputs": [],
   "source": [
    "for col in train_num:\n",
    "    if train[col].isnull().sum():\n",
    "        col_mean = train[col].mean()\n",
    "        train[col]=train[col].fillna(col_mean)\n",
    "        \n",
    "for col in train_cat:\n",
    "    if train[col].isnull().sum():\n",
    "        train[col] = train[col].fillna(method=\"ffill\")\n",
    "\n",
    "\n",
    "train_cat = train.select_dtypes(object)\n",
    "train_num = train.select_dtypes(\"float64\")"
   ]
  },
  {
   "cell_type": "code",
   "execution_count": 13,
   "metadata": {},
   "outputs": [],
   "source": [
    "for col in test_num:\n",
    "    if test[col].isnull().sum():\n",
    "        col_mean = test[col].mean()\n",
    "        test[col]=test[col].fillna(col_mean)\n",
    "        \n",
    "for col in test_cat:\n",
    "    if test[col].isnull().sum():\n",
    "        test[col] = test[col].fillna(method=\"ffill\")\n",
    "\n",
    "\n",
    "test_cat = test.select_dtypes(object)\n",
    "test_num = test.select_dtypes(\"float64\")"
   ]
  },
  {
   "cell_type": "code",
   "execution_count": 17,
   "metadata": {},
   "outputs": [
    {
     "name": "stdout",
     "output_type": "stream",
     "text": [
      "<class 'pandas.core.frame.DataFrame'>\n",
      "RangeIndex: 28200 entries, 0 to 28199\n",
      "Data columns (total 18 columns):\n",
      " #   Column                          Non-Null Count  Dtype  \n",
      "---  ------                          --------------  -----  \n",
      " 0   wind_speed(m/s)                 28200 non-null  float64\n",
      " 1   atmospheric_temperature(°C)     28200 non-null  float64\n",
      " 2   shaft_temperature(°C)           28200 non-null  float64\n",
      " 3   blades_angle(°)                 28200 non-null  float64\n",
      " 4   gearbox_temperature(°C)         28200 non-null  float64\n",
      " 5   engine_temperature(°C)          28200 non-null  float64\n",
      " 6   motor_torque(N-m)               28200 non-null  float64\n",
      " 7   generator_temperature(°C)       28200 non-null  float64\n",
      " 8   atmospheric_pressure(Pascal)    28200 non-null  float64\n",
      " 9   area_temperature(°C)            28200 non-null  float64\n",
      " 10  windmill_body_temperature(°C)   28200 non-null  float64\n",
      " 11  wind_direction(°)               28200 non-null  float64\n",
      " 12  resistance(ohm)                 28200 non-null  float64\n",
      " 13  rotor_torque(N-m)               28200 non-null  float64\n",
      " 14  blade_length(m)                 28200 non-null  float64\n",
      " 15  blade_breadth(m)                28200 non-null  float64\n",
      " 16  windmill_height(m)              28200 non-null  float64\n",
      " 17  windmill_generated_power(kW/h)  28200 non-null  float64\n",
      "dtypes: float64(18)\n",
      "memory usage: 3.9 MB\n"
     ]
    }
   ],
   "source": [
    "train_num.info()"
   ]
  }
 ],
 "metadata": {
  "kernelspec": {
   "display_name": "Python 3",
   "language": "python",
   "name": "python3"
  },
  "language_info": {
   "codemirror_mode": {
    "name": "ipython",
    "version": 3
   },
   "file_extension": ".py",
   "mimetype": "text/x-python",
   "name": "python",
   "nbconvert_exporter": "python",
   "pygments_lexer": "ipython3",
   "version": "3.8.5"
  }
 },
 "nbformat": 4,
 "nbformat_minor": 4
}
